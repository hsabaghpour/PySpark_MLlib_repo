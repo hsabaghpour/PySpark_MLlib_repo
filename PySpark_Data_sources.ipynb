{
  "nbformat": 4,
  "nbformat_minor": 0,
  "metadata": {
    "colab": {
      "provenance": [],
      "mount_file_id": "10t3AnbtMtoYzGuXTIWGc_qTYuW7vbmFX",
      "authorship_tag": "ABX9TyMHPhjJhJNeOleEw3DI15FF",
      "include_colab_link": true
    },
    "kernelspec": {
      "name": "python3",
      "display_name": "Python 3"
    },
    "language_info": {
      "name": "python"
    }
  },
  "cells": [
    {
      "cell_type": "markdown",
      "metadata": {
        "id": "view-in-github",
        "colab_type": "text"
      },
      "source": [
        "<a href=\"https://colab.research.google.com/github/hsabaghpour/PySpark_MLlib_repo/blob/main/PySpark_Data_sources.ipynb\" target=\"_parent\"><img src=\"https://colab.research.google.com/assets/colab-badge.svg\" alt=\"Open In Colab\"/></a>"
      ]
    },
    {
      "cell_type": "markdown",
      "source": [
        "#Image data source\n",
        "\n",
        "This image data source is used to load image files from a directory, it can load compressed image (jpeg, png, etc.) into raw image representation via ImageIO in Java library. The loaded DataFrame has one StructType column: “image”, containing image data stored as image schema. The schema of the image column is:\n",
        "\n",
        "\n",
        "origin: StringType (represents the file path of the image)\n",
        "height: IntegerType (height of the image)\n",
        "width: IntegerType (width of the image)\n",
        "nChannels: IntegerType (number of image channels)\n",
        "mode: IntegerType (OpenCV-compatible type)\n",
        "data: BinaryType (Image bytes in OpenCV-compatible order: row-wise BGR in most cases)"
      ],
      "metadata": {
        "id": "okXywRHtjuYz"
      }
    },
    {
      "cell_type": "code",
      "execution_count": 2,
      "metadata": {
        "id": "gYRKp5OWiMKx"
      },
      "outputs": [],
      "source": [
        "from pyspark.sql import SparkSession\n",
        "spark = SparkSession.builder.appName('corr').getOrCreate()\n"
      ]
    },
    {
      "cell_type": "code",
      "source": [
        "df = spark.read.format(\"image\").option(\"dropInvalid\", True).load(\"/content/\")"
      ],
      "metadata": {
        "id": "knrFi11tipIx"
      },
      "execution_count": 4,
      "outputs": []
    },
    {
      "cell_type": "code",
      "source": [
        "df.select(\"image.origin\", \"image.width\", \"image.height\").show(truncate=False)\n"
      ],
      "metadata": {
        "colab": {
          "base_uri": "https://localhost:8080/"
        },
        "id": "uOUuyTJtjin-",
        "outputId": "10e65e87-2222-40fb-f80d-50bbde99ef5b"
      },
      "execution_count": 5,
      "outputs": [
        {
          "output_type": "stream",
          "name": "stdout",
          "text": [
            "+---------------------------------------+-----+------+\n",
            "|origin                                 |width|height|\n",
            "+---------------------------------------+-----+------+\n",
            "|file:///content/54893.jpg              |300  |311   |\n",
            "|file:///content/DP802813.jpg           |199  |313   |\n",
            "|file:///content/29.5.a_b_EGDP022204.jpg|300  |200   |\n",
            "|file:///content/DP153539.jpg           |300  |296   |\n",
            "+---------------------------------------+-----+------+\n",
            "\n"
          ]
        }
      ]
    },
    {
      "cell_type": "code",
      "source": [
        "df.show()"
      ],
      "metadata": {
        "colab": {
          "base_uri": "https://localhost:8080/"
        },
        "id": "BaOMLHfajzh-",
        "outputId": "fa208b57-0d9d-49f9-8910-ac3e2beb6482"
      },
      "execution_count": 6,
      "outputs": [
        {
          "output_type": "stream",
          "name": "stdout",
          "text": [
            "+--------------------+\n",
            "|               image|\n",
            "+--------------------+\n",
            "|{file:///content/...|\n",
            "|{file:///content/...|\n",
            "|{file:///content/...|\n",
            "|{file:///content/...|\n",
            "+--------------------+\n",
            "\n"
          ]
        }
      ]
    },
    {
      "cell_type": "markdown",
      "source": [
        "#**LIBSVM data source**\n",
        "\n",
        "This **LIBSVM** data source is used to load ‘libsvm’ type files from a directory. The loaded DataFrame has two columns: label containing labels stored as doubles and features containing feature vectors stored as Vectors. The schemas of the columns are:\n",
        "\n",
        "**label: DoubleType (represents the instance label)**\n",
        "\n",
        "**features: VectorUDT (represents the feature vector)**"
      ],
      "metadata": {
        "id": "JwnfciIMkEoj"
      }
    },
    {
      "cell_type": "code",
      "source": [
        "df = spark.read.format(\"libsvm\").option(\"numFeatures\", \"780\").load(\"/content/sample_libsvm_data.txt\")\n",
        "df.show(10)"
      ],
      "metadata": {
        "colab": {
          "base_uri": "https://localhost:8080/"
        },
        "id": "Iq6LUMs8j-UH",
        "outputId": "51ed06f6-2750-4c94-c895-59d0734581f0"
      },
      "execution_count": 18,
      "outputs": [
        {
          "output_type": "stream",
          "name": "stdout",
          "text": [
            "+-----+--------------------+\n",
            "|label|            features|\n",
            "+-----+--------------------+\n",
            "|  0.0|(780,[127,128,129...|\n",
            "|  1.0|(780,[158,159,160...|\n",
            "|  1.0|(780,[124,125,126...|\n",
            "|  1.0|(780,[152,153,154...|\n",
            "|  1.0|(780,[151,152,153...|\n",
            "|  0.0|(780,[129,130,131...|\n",
            "|  1.0|(780,[158,159,160...|\n",
            "|  1.0|(780,[99,100,101,...|\n",
            "|  0.0|(780,[154,155,156...|\n",
            "|  0.0|(780,[127,128,129...|\n",
            "+-----+--------------------+\n",
            "only showing top 10 rows\n",
            "\n"
          ]
        }
      ]
    },
    {
      "cell_type": "code",
      "source": [],
      "metadata": {
        "colab": {
          "base_uri": "https://localhost:8080/",
          "height": 186
        },
        "id": "eMzgvnyJlNtx",
        "outputId": "a36fbd3c-8471-4548-b8a6-1487c280bb5c"
      },
      "execution_count": 27,
      "outputs": [
        {
          "output_type": "execute_result",
          "data": {
            "text/plain": [
              "pyspark.sql.column.Column"
            ],
            "text/html": [
              "<div style=\"max-width:800px; border: 1px solid var(--colab-border-color);\"><style>\n",
              "      pre.function-repr-contents {\n",
              "        overflow-x: auto;\n",
              "        padding: 8px 12px;\n",
              "        max-height: 500px;\n",
              "      }\n",
              "\n",
              "      pre.function-repr-contents.function-repr-contents-collapsed {\n",
              "        cursor: pointer;\n",
              "        max-height: 100px;\n",
              "      }\n",
              "    </style>\n",
              "    <pre style=\"white-space: initial; background:\n",
              "         var(--colab-secondary-surface-color); padding: 8px 12px;\n",
              "         border-bottom: 1px solid var(--colab-border-color);\"><b>pyspark.sql.column.Column</b><br/>def __init__(jc: JavaObject) -&gt; None</pre><pre class=\"function-repr-contents function-repr-contents-collapsed\" style=\"\"><a class=\"filepath\" style=\"display:none\" href=\"#\">/usr/local/lib/python3.10/dist-packages/pyspark/sql/column.py</a>A column in a DataFrame.\n",
              "\n",
              ".. versionadded:: 1.3.0\n",
              "\n",
              ".. versionchanged:: 3.4.0\n",
              "    Supports Spark Connect.\n",
              "\n",
              "Examples\n",
              "--------\n",
              "Column instances can be created by\n",
              "\n",
              "&gt;&gt;&gt; df = spark.createDataFrame(\n",
              "...      [(2, &quot;Alice&quot;), (5, &quot;Bob&quot;)], [&quot;age&quot;, &quot;name&quot;])\n",
              "\n",
              "Select a column out of a DataFrame\n",
              "&gt;&gt;&gt; df.name\n",
              "Column&lt;&#x27;name&#x27;&gt;\n",
              "&gt;&gt;&gt; df[&quot;name&quot;]\n",
              "Column&lt;&#x27;name&#x27;&gt;\n",
              "\n",
              "Create from an expression\n",
              "\n",
              "&gt;&gt;&gt; df.age + 1\n",
              "Column&lt;...&gt;\n",
              "&gt;&gt;&gt; 1 / df.age\n",
              "Column&lt;...&gt;</pre>\n",
              "      <script>\n",
              "      if (google.colab.kernel.accessAllowed && google.colab.files && google.colab.files.view) {\n",
              "        for (const element of document.querySelectorAll('.filepath')) {\n",
              "          element.style.display = 'block'\n",
              "          element.onclick = (event) => {\n",
              "            event.preventDefault();\n",
              "            event.stopPropagation();\n",
              "            google.colab.files.view(element.textContent, 185);\n",
              "          };\n",
              "        }\n",
              "      }\n",
              "      for (const element of document.querySelectorAll('.function-repr-contents')) {\n",
              "        element.onclick = (event) => {\n",
              "          event.preventDefault();\n",
              "          event.stopPropagation();\n",
              "          element.classList.toggle('function-repr-contents-collapsed');\n",
              "        };\n",
              "      }\n",
              "      </script>\n",
              "      </div>"
            ]
          },
          "metadata": {},
          "execution_count": 27
        }
      ]
    },
    {
      "cell_type": "code",
      "source": [],
      "metadata": {
        "id": "IJtpONsGlTHP"
      },
      "execution_count": null,
      "outputs": []
    }
  ]
}